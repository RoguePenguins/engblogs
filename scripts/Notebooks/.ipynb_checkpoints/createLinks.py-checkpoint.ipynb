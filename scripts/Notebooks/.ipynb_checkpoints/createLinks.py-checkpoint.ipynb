{
 "cells": [
  {
   "cell_type": "code",
   "execution_count": 49,
   "id": "a0793982",
   "metadata": {},
   "outputs": [],
   "source": [
    "import sys\n",
    "import os\n",
    "from dotenv import load_dotenv\n",
    "from sqlalchemy import create_engine\n",
    "from sqlalchemy.orm import sessionmaker\n",
    "from tqdm import tqdm\n",
    "from sqlalchemy.exc import SQLAlchemyError\n",
    "sys.path.append(\"..\")  # Adds higher directory to python modules path.\n",
    "from models import Link,Post, Base\n",
    "from parse_utils import get_full_text\n"
   ]
  },
  {
   "cell_type": "code",
   "execution_count": 26,
   "id": "d4de624b",
   "metadata": {},
   "outputs": [],
   "source": [
    "# Setup SQLAlchemy\n",
    "engine = create_engine(os.getenv(\"DATABASE_URL\"))\n",
    "\n",
    "Base.metadata.create_all(engine)\n",
    "Session = sessionmaker(bind=engine)\n"
   ]
  },
  {
   "cell_type": "code",
   "execution_count": 60,
   "id": "fad3b4f1",
   "metadata": {},
   "outputs": [],
   "source": [
    "def create_link(company, url):\n",
    "    session = Session()\n",
    "    link = Link(company=company, link=url)\n",
    "    session.add(link)\n",
    "    try:\n",
    "        session.commit()\n",
    "        print(f\"Link created for {company} with ID: {link.id}\")\n",
    "    except Exception as e:\n",
    "        print(f\"Error occurred while saving link to database: {e}\")\n",
    "        session.rollback()\n",
    "    finally:\n",
    "        session.close()\n",
    "    return link\n",
    "\n",
    "def get_all_links():\n",
    "    session = Session()\n",
    "    links = session.query(Link).all()\n",
    "    session.close()\n",
    "    return links\n",
    "\n",
    "def get_all_posts():\n",
    "    session = Session()\n",
    "    posts = session.query(Post).all()\n",
    "    session.close()\n",
    "    return posts\n",
    "\n",
    "def delete_link(url):\n",
    "    session = Session()\n",
    "    link = session.query(Link).filter_by(link=url).first()\n",
    "    if link is None:\n",
    "        print(f\"No link found for url {url}\")\n",
    "        return\n",
    "\n",
    "    try:\n",
    "        session.delete(link)\n",
    "        session.commit()\n",
    "        print(f\"Link deleted for url {url}\")\n",
    "    except SQLAlchemyError as e:\n",
    "        session.rollback()  # Roll back the transaction on error\n",
    "        print(f\"Error occurred while deleting link from database: {e}\")\n",
    "    finally:\n",
    "        session.close()  # Always close the session when you're done with it\n",
    "        \n",
    "        \n",
    "def delete_posts():\n",
    "    session = Session()\n",
    "    try:\n",
    "        session.query(Post).delete()\n",
    "        session.commit()\n",
    "        print(\"All posts deleted.\")\n",
    "    except SQLAlchemyError as e:\n",
    "        session.rollback()  # Roll back the transaction on error\n",
    "        print(f\"Error occurred while deleting posts from database: {e}\")\n",
    "    finally:\n",
    "        session.close()  # Always close the session when you're done with it\n",
    "\n",
    "\n"
   ]
  },
  {
   "cell_type": "code",
   "execution_count": 41,
   "id": "d695977b",
   "metadata": {},
   "outputs": [
    {
     "name": "stdout",
     "output_type": "stream",
     "text": [
      "Link created for databricks with ID: 4\n",
      "Link created for databricks with ID: 5\n"
     ]
    }
   ],
   "source": [
    "# List of URLs and companies\n",
    "data = [\n",
    "    {\"company\": \"databricks\", \"url\": \"https://www.databricks.com/blog/category/data-strategy/feed\"},\n",
    "    {\"company\": \"databricks\", \"url\": \"https://www.databricks.com/blog/category/best-practices/feed\"}\n",
    "]\n",
    "\n",
    "# Create Link objects and fetch full text for each URL\n",
    "for item in data:\n",
    "    link = create_link(item[\"company\"], item[\"url\"])\n",
    "#     full_text = get_full_text(item[\"url\"])\n"
   ]
  },
  {
   "cell_type": "code",
   "execution_count": 33,
   "id": "a73d88ae",
   "metadata": {},
   "outputs": [
    {
     "data": {
      "text/plain": [
       "<models.Link at 0x118df8640>"
      ]
     },
     "execution_count": 33,
     "metadata": {},
     "output_type": "execute_result"
    }
   ],
   "source": []
  },
  {
   "cell_type": "code",
   "execution_count": 69,
   "id": "0353aabe",
   "metadata": {},
   "outputs": [
    {
     "name": "stdout",
     "output_type": "stream",
     "text": [
      "posts: 10\n",
      "links: 2\n"
     ]
    },
    {
     "ename": "AttributeError",
     "evalue": "'Post' object has no attribute 'fulltext'",
     "output_type": "error",
     "traceback": [
      "\u001b[0;31m---------------------------------------------------------------------------\u001b[0m",
      "\u001b[0;31mAttributeError\u001b[0m                            Traceback (most recent call last)",
      "Input \u001b[0;32mIn [69]\u001b[0m, in \u001b[0;36m<cell line: 10>\u001b[0;34m()\u001b[0m\n\u001b[1;32m      7\u001b[0m \u001b[38;5;66;03m# # posts = [post for post in posts]\u001b[39;00m\n\u001b[1;32m      8\u001b[0m \n\u001b[1;32m      9\u001b[0m \u001b[38;5;66;03m# # # Print first 10...\u001b[39;00m\n\u001b[1;32m     10\u001b[0m \u001b[38;5;28;01mfor\u001b[39;00m post \u001b[38;5;129;01min\u001b[39;00m posts[:\u001b[38;5;241m10\u001b[39m]:\n\u001b[0;32m---> 11\u001b[0m     \u001b[38;5;28mprint\u001b[39m(\u001b[43mpost\u001b[49m\u001b[38;5;241;43m.\u001b[39;49m\u001b[43mfulltext\u001b[49m)\n",
      "\u001b[0;31mAttributeError\u001b[0m: 'Post' object has no attribute 'fulltext'"
     ]
    }
   ],
   "source": [
    "posts = get_all_posts()\n",
    "link = get_all_links()\n",
    "\n",
    "print(f'posts: {len(posts)}')\n",
    "print(f'links: {len(links)}')\n",
    "\n",
    "# # posts = [post for post in posts]\n",
    "\n",
    "# # # Print first 10...\n",
    "for post in posts[:10]:\n",
    "    print(post.fulltext)"
   ]
  },
  {
   "cell_type": "code",
   "execution_count": 61,
   "id": "4e070aa2",
   "metadata": {},
   "outputs": [
    {
     "name": "stdout",
     "output_type": "stream",
     "text": [
      "All posts deleted.\n"
     ]
    }
   ],
   "source": [
    "delete_posts()"
   ]
  },
  {
   "cell_type": "code",
   "execution_count": null,
   "id": "61393f3f",
   "metadata": {},
   "outputs": [],
   "source": []
  }
 ],
 "metadata": {
  "kernelspec": {
   "display_name": "Python 3 (ipykernel)",
   "language": "python",
   "name": "python3"
  },
  "language_info": {
   "codemirror_mode": {
    "name": "ipython",
    "version": 3
   },
   "file_extension": ".py",
   "mimetype": "text/x-python",
   "name": "python",
   "nbconvert_exporter": "python",
   "pygments_lexer": "ipython3",
   "version": "3.10.5"
  }
 },
 "nbformat": 4,
 "nbformat_minor": 5
}
